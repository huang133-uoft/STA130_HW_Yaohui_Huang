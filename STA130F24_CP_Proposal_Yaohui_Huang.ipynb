{
 "cells": [
  {
   "cell_type": "markdown",
   "id": "5ac63a84",
   "metadata": {},
   "source": [
    "#### Question 1: Living enviroment and emptiness"
   ]
  },
  {
   "cell_type": "markdown",
   "id": "314c551f",
   "metadata": {},
   "source": [
    "The first research question I'm interested in is the relationship between living area and self-preceived emptiness. Specifically, I'd like to analyze the association between the living enviroment and the feel of loneliness, and does people who live in large urban area feel more solitude than people who live in medium city, small city and rural area. \n",
    "\n",
    "As the evaluating critiria, GEO_rural_urban and LONELY_dejong_emotional_social_loneliness_scale_emptiness are introduced to be analyzed, which reflects the degree of emptiness. The variable GEO_rural_urban is obtained by asking 'What best describes the community you live in?', and have values of 'large urban', 'medium city', 'small city/down', 'rural area', which roughly classifies the living enviroments. The variable LONELY_dejong_emotional_social_loneliness_scale_emptiness record the respondents' feeling about emptiness, which has values of 'Yes', 'Presented', 'More or less' and 'No'. Stacked bar chart would be the most useful visualization method for both of the variables, since these two variables show values in form of categories, and a bar chart would directly visualize the distribution of each categories for each variable, with each bar representing a category. \n",
    "\n",
    "Data summarization and visualization would be the most appropriate method to analyze this question. After performing summarization and removing the missing values, stacked bar charts would be clear to show and easy to compare the distribution between diffferent categories, and provide a result of whether the samples from large urban areas have a higher sense of emptiness and loneliness or not. A group of bar charts can be appliedin order to summarize these variables, which best shows the distribution of responese with each group of GEO_rural_urban such as 'large urban'. Each bar can represent a category in GEO_rural_urban and the segements can show the categories of responeses. \n",
    "\n",
    "I made a hypothesis says that the propotion of people feeling emptiness in large urban areas is much higher than the propotion in other areas. If this hypothesis is true, it answers my question that people live in large urban area feel more solitude than people who live in medium city, small city and rural area.  "
   ]
  },
  {
   "cell_type": "markdown",
   "id": "403e9f14",
   "metadata": {},
   "source": [
    "#### Question 2: Newcomers and life satisification"
   ]
  },
  {
   "cell_type": "markdown",
   "id": "cfc77345",
   "metadata": {},
   "source": [
    "Does the identity of newcomers make any affects on the score of life satisification comparing to others? This is my second research question which I'm interested in. A population life satisfication mean would be estimated for this analization.\n",
    "\n",
    "The variables DEMO_indentity_newcomers and WELLNESS_life_satisfication are introduced in order to analyze the association between them, which reflects the distribution of life statisfication scores in the group samples of newcomers. DEMO_indentity_newcomers is a categorical variables with values of 'Newcomers', 'Not selected' and 'Presented', which records the respodents self identifies as a newcomer or not by asking question 'Do you belong to any of the following groups? ' DEMO_indentity_newcomers can be visualized by bar charts, with two bars one representing 'Newcomers' and one representing 'Others', and the y-axis shows the amount of samples in each categories. This chart clearly shows the amount of samples in the 'Newcomers' group. The variable WELLNESS_life_satisfication measures the scores of life satisfication from the respondents, which has the values in integers on a scale of 1-10, where 10 has the most greatest life statisfication. This variable can be visualized using a histogram, which best shows the frequency of each integer score values in the range 1 to 10. The x-axis represents the scores and the y-axis shows the counts of scores, which hlpes quickly indentifies which score value is most common. \n",
    "\n",
    "After removing all the missing values, confidence interval and hypothesis testing would be the most appropriate analyzing method. We assume the null hypothesis that the identity of newcomers does not associate with the life satisfication scores, and the alternate hypothesis states that the identity of newcomers does associate with the life satisfication scores. Then, we estimate a population mean of life satisification using bootstrapping and create a confidence interval. Then assume the null hypothesis is true and use the 'newcomer' statistics as the observed data and perfrom a hypothsis test based on the sample mean. \n",
    "\n",
    "I make a hypothesis that the result of the hypothesis test would reject my null hypothesis, then the alternative hypothesis would says that there are some affects caused by the identity of newcomers made on the score of life satisfication, which answers my question. "
   ]
  },
  {
   "cell_type": "markdown",
   "id": "dcdb6ae7",
   "metadata": {},
   "source": [
    "#### Question 3: CONNECTION_effort_connect & DEMO_relationship_duration"
   ]
  },
  {
   "cell_type": "markdown",
   "id": "e1451c14",
   "metadata": {},
   "source": [
    "Does people would put more effort on connecting with others have a relationship duration longer than people who put less effort? A population relationship duration mean would be estimate for this analyze. \n",
    "\n",
    "The variables CONNECTION_effort_connect and DEMO_relationship_duration are introduced in order to analyze the association between them, which reflects the distribution of relationship duration time under diffrent groups of samples who spends different degree of efforts. CONNECTION_effort_connect is a categorical variable with values of 'A great deal of effort', 'Much effor', 'Some effort', 'A little effort' and 'No effort', the answers are obtained by asking 'How much effort do you put into intentionally connecting with others?', and tells how much effort each respondents spent on social connection. The best for to visualize this variable is bar chart, which provides a clear view of the distribution. DEMO_relationship_duration is a categorical variable with values of 'More than 10 years', '7 to 10 years', '5 to 7 years',  '3 to 5 years', '1 to 3 years', '6 to 12 months', '3 to 6 months' and 'Less than 3 years', which tells the relationship duration of each respondents. The variable can be best visualized using bar chart since it probides a clear view of distribution with y-aixs representing count and x-axis representing duration time categories. \n",
    "\n",
    "Data summarization and visualization would be the best analyzing methods for these two variables. Aftering appllying data summarization and removed all the missing values, a group of KDE violin plot can be applied to show the distribution of relationship duration within the groups of categories in CONNECTION_effort_connect. Then, compare the distribution of the five graphs and make the conclusion.\n",
    "\n",
    "I make a hypothesis that there's a linear relationship between the two variables which tells that as the effort spent on connection increases, the relationship duration time also increases. If the graph behavior is likely to this and the hypothesis is true, it gives a result to my question that people putting more efforts on connection would have a longer relationship duration."
   ]
  }
 ],
 "metadata": {
  "kernelspec": {
   "display_name": "Python 3 (ipykernel)",
   "language": "python",
   "name": "python3"
  },
  "language_info": {
   "codemirror_mode": {
    "name": "ipython",
    "version": 3
   },
   "file_extension": ".py",
   "mimetype": "text/x-python",
   "name": "python",
   "nbconvert_exporter": "python",
   "pygments_lexer": "ipython3",
   "version": "3.11.6"
  }
 },
 "nbformat": 4,
 "nbformat_minor": 5
}
