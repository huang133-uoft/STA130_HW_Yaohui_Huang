{
 "cells": [
  {
   "cell_type": "markdown",
   "id": "3ee5d84e",
   "metadata": {},
   "source": [
    "#### Question 1"
   ]
  },
  {
   "cell_type": "markdown",
   "id": "a449f464",
   "metadata": {},
   "source": [
    "The key factor that determines whether an idea or statement can be examined and tested statistically is measurability, which refers to wheather the data can be collected, analyzed, and compared in the form of quantifiable variables which obeys the priciple of statistical analysis. There are few key criterias that a good null hypothesis should satisfy, for example specified with a clear condition, testable when proving it's wheather true or false, neutrality and universality. Null hypothesis is a default assumption which often states that the result is no effect, nor difference or no relationship with the variables for testing. An alternative hypothesis is everything else differet from the null hypothesis, which usually states that the variables being studied does have an effect on the final result. It stands for a possibility that the null hypothesis is not correct. "
   ]
  },
  {
   "cell_type": "markdown",
   "id": "8ae73a8f",
   "metadata": {},
   "source": [
    "https://chatgpt.com/share/66fed021-434c-800c-bf4d-98e4d3db77c6\n",
    "\n",
    "Statistical examination requires ideas to be measurable, meaning they must involve quantifiable variables that can be objectively collected and analyzed. Without clear metrics, it becomes difficult to apply statistical methods.\n",
    "\n",
    "A good null hypothesis is defined by a few key criteria:\n",
    "1. It should be specific, clearly stating a testable condition.\n",
    "2. It must be testable, allowing for data collection and statistical analysis.\n",
    "3. It should be neutral, often framed as a \"no effect\" or \"no difference\" assumption.\n",
    "4. It must be broad enough to encompass the scenario but focused enough to be statistically assessed.\n",
    "\n",
    "The null hypothesis (H₀) assumes no effect or relationship between variables, serving as the default assumption. The alternative hypothesis (H₁ or Ha), by contrast, suggests that there is a significant effect or difference. Hypothesis testing evaluates whether there is sufficient evidence to reject the null hypothesis in favor of the alternative."
   ]
  },
  {
   "cell_type": "markdown",
   "id": "930b7286",
   "metadata": {},
   "source": [
    "#### Question 2"
   ]
  },
  {
   "cell_type": "markdown",
   "id": "78dbb10b",
   "metadata": {},
   "source": [
    "The statement shown at the end of the vedio emphasizes the difference between sample statistics and population parameters. \\\n",
    "𝑥𝑖 stands for the individual data points introduced in the specific sample, where i can be  ranged from 1 to n (n is the number of data points being observed), when it points to a specific data point.\\\n",
    "𝑥¯ stands for the sample mean, which is an average of the 𝑥𝑖's. It is an 'statistic' which estimates the popution mean based on the specific sample being analyzed.\\\n",
    "𝜇 stands for the population mean, which is a 'parameter' that represenst the true mean(average) of the entire population. The population mean is usually hard to calculate since the entire population is too large when analyzing, therefore, we introduce the sample means to provide an estimation on it. \\\n",
    "𝜇0 stands for the hypothesized mean, which is an assumption for the value of the true population mean under the null hypothesis. The hypothesized mean is usually set to the baseline value when comparing to the sample mean 𝑥¯. During a hypothesis test, one thing we want to prove is the rejection of hypothesis '𝜇 = 𝜇0'."
   ]
  },
  {
   "cell_type": "markdown",
   "id": "0e94c2b7",
   "metadata": {},
   "source": [
    "https://chatgpt.com/share/66fed6e9-0fd8-800c-ab16-5a227177c665\n",
    "\n",
    "This session focused on clarifying key statistical concepts related to hypothesis testing, specifically the distinction between observed sample values (\\( x_i \\)), the sample mean (\\( \\bar{x} \\)), the population mean (\\( \\mu \\)), and the hypothesized population mean under the null hypothesis (\\( \\mu_0 \\)). \n",
    "\n",
    "- **Observed sample values (\\( x_i \\))** are individual data points collected from a sample.\n",
    "- **The sample mean (\\( \\bar{x} \\))** is the average of those values and serves as an estimate of the population mean, though it varies between samples.\n",
    "- **The population mean (\\( \\mu \\))** is a fixed but unknown value that represents the true average of the population.\n",
    "- **The hypothesized mean (\\( \\mu_0 \\))** is the value assumed under the null hypothesis, representing a baseline for comparison in the hypothesis test.\n",
    "\n",
    "The distinction between these concepts highlights the goal of hypothesis testing: using sample data to draw conclusions about the population mean."
   ]
  },
  {
   "cell_type": "markdown",
   "id": "b73f8b17",
   "metadata": {},
   "source": [
    "#### Question 3"
   ]
  },
  {
   "cell_type": "markdown",
   "id": "7bcede98",
   "metadata": {},
   "source": [
    "In the previous questions, the null hypothesis is discribed as a 'baseline' in a hypothsis test, which is an assumption of the variable being observed does not affect the final result. A p-value is s statistical measure which helps to illustrate how the observed data is extreme from the actual data. When calculating a p=value, we assume the null hypothesis is true, this helps to evaluate how the observed data is different from the assumption. If the p-value is small, it indicates the extreme data would be unusual from the null hypothesis, and the null hypothesis is rejected; if the p-value is large, then the observation satisfies the null hypothesis, and the null hypothesis is proved since we failed to reject it."
   ]
  },
  {
   "cell_type": "markdown",
   "id": "9b870cd7",
   "metadata": {},
   "source": [
    "https://chatgpt.com/share/66fedad8-2fc0-800c-99a7-b23227c2978b\n",
    "\n",
    "In this session, two key concepts in hypothesis testing were covered:\n",
    "\n",
    "1. **Imagining a World Where the Null Hypothesis is True:** When calculating a p-value, the assumption is made that the null hypothesis is true to evaluate how likely the observed data would be under this assumption. This helps in deciding whether to reject or fail to reject the null hypothesis based on the extremity of the data.\n",
    "\n",
    "2. **What a p-value is:** A p-value represents the probability of obtaining a result as extreme, or more extreme, than the observed data, assuming the null hypothesis is true. A small p-value suggests evidence against the null hypothesis, while a large p-value indicates that the data is not unusual under the null hypothesis. It does not measure the probability that the null hypothesis is true or false, nor does it quantify the size or importance of an effect."
   ]
  },
  {
   "cell_type": "markdown",
   "id": "052f0ec8",
   "metadata": {},
   "source": [
    "#### Question 4"
   ]
  },
  {
   "cell_type": "markdown",
   "id": "9fd5d37f",
   "metadata": {},
   "source": [
    "As the p-value generated from a hypothesis test is smaller, it indicates that the observation data is extremely  different or unusual from the assumption under the situation when the null hypothesis is true(𝜇0 usually assumed to be no effect on the result), which rejects the null hypothesis to be a valid statement or explaination for the data. This is because, when the null hypothesis is true, there's a known dirstribution for the statistic being tested, which discribes how the data point will spread under the 'no effect' situation. During a hypothesis test, we build a test statistic from the observed sample data which summarized the how far the data should spread. After comparing the observed data and expected data under the null hypothsis, p-value is calculated to indicate the probability of the observed values being extreme from the test values. For conclusion, if the null hypothesis is true, the chance for observations to have a extreme value would be small. \n",
    "\n"
   ]
  },
  {
   "cell_type": "markdown",
   "id": "06c970d6",
   "metadata": {},
   "source": [
    "https://chatgpt.com/share/66fedad8-2fc0-800c-99a7-b23227c2978b\n",
    "\n",
    "The observed test statistic is compared to the sampling distribution of the test statistic under the assumption that the null hypothesis is true. If the observed value falls near the center of the distribution, it suggests that the data aligns with the null hypothesis. However, if the observed statistic falls in the tails (indicating an extreme value), it suggests the result is unusual under the null hypothesis. This comparison helps determine the p-value, with more extreme test statistics leading to smaller p-values and stronger evidence against the null hypothesis."
   ]
  },
  {
   "cell_type": "markdown",
   "id": "371cf304",
   "metadata": {},
   "source": [
    "#### Question 5"
   ]
  },
  {
   "cell_type": "markdown",
   "id": "2f207405",
   "metadata": {},
   "source": [
    "Hypotheses:\\\n",
    "Null hypothesis: There in 'no preference' for tilt right or left, according to the \"50/50 coin-flipping\" model, the probability of tilt right should be 50%. Therefore, null hypothesis set p=0.5.\\\n",
    "Alternative hypothesis: The probability of tilt right is greater or smaller than 50%.\\\n",
    "\n",
    "Observation:\n",
    "80 of 124 couples tilt right: 80/124 = 64.5%.\\\n",
    "The proportion of tilt right is 64.5%\n",
    "\n",
    "Simulation:\n",
    "According to the 'coin-flip' model, if we repeat the similation for many times, the probability for 80 out of 124 couples to tilt right is 0.1%, which indicates the p-value is 0.001.\n",
    "\n",
    "Conclusion:\n",
    "since p = 0.001, there exist a very strong evidence against the null hypothesis. Therefore, we succesfully reject the null hypothesis. \n"
   ]
  },
  {
   "cell_type": "markdown",
   "id": "832d39ae",
   "metadata": {},
   "source": [
    "https://chatgpt.com/share/66fee8a9-9020-800c-94aa-c3f741d7e98a\n",
    "\n",
    "In this session, a simulation was conducted to estimate a p-value for a study on head-tilting preferences among kissing couples. The null hypothesis assumed no preference for tilting direction, with a 50/50 chance of tilting left or right. The observed data showed that 80 out of 124 couples tilted their heads to the right, a proportion of 64.5%.\n",
    "\n",
    "A binomial model representing the 50/50 probability assumption was used, and 10,000 trials were run. The resulting p-value was 0.001, indicating that the likelihood of observing 80 or more right tilts, under the assumption of no preference, is just 0.1%.\n",
    "\n",
    "This low p-value suggests strong evidence against the null hypothesis, implying a possible preference for tilting to the right when kissing."
   ]
  },
  {
   "cell_type": "markdown",
   "id": "33b32fbd",
   "metadata": {},
   "source": [
    "#### Question 6"
   ]
  },
  {
   "cell_type": "markdown",
   "id": "a62c2880",
   "metadata": {},
   "source": [
    "No, p-value doesn't prove any statements definitely since it only indicates a probability of a specific situation happening based on the given sample data under the assumption of the null hypothesis. A low p-value indicates the evidence for Fido to be innocent is inconsistent, but does not prove Fido is guilty; in contrast, a high p-value indicates the evidence is inconsistent to prove that Fido is guilty, but does not prove Fido is definitely innocent."
   ]
  },
  {
   "cell_type": "markdown",
   "id": "6745893f",
   "metadata": {},
   "source": [
    "https://chatgpt.com/share/66feec4b-3040-800c-a77e-2f8ed65de41c\n",
    "\n",
    "The session covered the limitations of using p-values in hypothesis testing. It was explained that a p-value cannot definitively prove whether a null hypothesis is true or false. Instead, a smaller p-value provides stronger evidence against the null hypothesis, but it remains probabilistic. In the context of Fido's innocence or guilt, a low p-value suggests evidence against innocence but doesn't definitively prove guilt, and a high p-value suggests weak evidence for guilt but doesn't definitively prove innocence. Hypothesis testing involves probabilistic reasoning rather than absolute certainty."
   ]
  },
  {
   "cell_type": "markdown",
   "id": "57cddcbf",
   "metadata": {},
   "source": [
    "#### Question 7"
   ]
  },
  {
   "cell_type": "code",
   "execution_count": 5,
   "id": "e1c17056",
   "metadata": {},
   "outputs": [
    {
     "data": {
      "text/html": [
       "<div>\n",
       "<style scoped>\n",
       "    .dataframe tbody tr th:only-of-type {\n",
       "        vertical-align: middle;\n",
       "    }\n",
       "\n",
       "    .dataframe tbody tr th {\n",
       "        vertical-align: top;\n",
       "    }\n",
       "\n",
       "    .dataframe thead th {\n",
       "        text-align: right;\n",
       "    }\n",
       "</style>\n",
       "<table border=\"1\" class=\"dataframe\">\n",
       "  <thead>\n",
       "    <tr style=\"text-align: right;\">\n",
       "      <th></th>\n",
       "      <th>PatientID</th>\n",
       "      <th>Age</th>\n",
       "      <th>Gender</th>\n",
       "      <th>InitialHealthScore</th>\n",
       "      <th>FinalHealthScore</th>\n",
       "    </tr>\n",
       "  </thead>\n",
       "  <tbody>\n",
       "    <tr>\n",
       "      <th>0</th>\n",
       "      <td>1</td>\n",
       "      <td>45</td>\n",
       "      <td>M</td>\n",
       "      <td>84</td>\n",
       "      <td>86</td>\n",
       "    </tr>\n",
       "    <tr>\n",
       "      <th>1</th>\n",
       "      <td>2</td>\n",
       "      <td>34</td>\n",
       "      <td>F</td>\n",
       "      <td>78</td>\n",
       "      <td>86</td>\n",
       "    </tr>\n",
       "    <tr>\n",
       "      <th>2</th>\n",
       "      <td>3</td>\n",
       "      <td>29</td>\n",
       "      <td>M</td>\n",
       "      <td>83</td>\n",
       "      <td>80</td>\n",
       "    </tr>\n",
       "    <tr>\n",
       "      <th>3</th>\n",
       "      <td>4</td>\n",
       "      <td>52</td>\n",
       "      <td>F</td>\n",
       "      <td>81</td>\n",
       "      <td>86</td>\n",
       "    </tr>\n",
       "    <tr>\n",
       "      <th>4</th>\n",
       "      <td>5</td>\n",
       "      <td>37</td>\n",
       "      <td>M</td>\n",
       "      <td>81</td>\n",
       "      <td>84</td>\n",
       "    </tr>\n",
       "    <tr>\n",
       "      <th>5</th>\n",
       "      <td>6</td>\n",
       "      <td>41</td>\n",
       "      <td>F</td>\n",
       "      <td>80</td>\n",
       "      <td>86</td>\n",
       "    </tr>\n",
       "    <tr>\n",
       "      <th>6</th>\n",
       "      <td>7</td>\n",
       "      <td>33</td>\n",
       "      <td>M</td>\n",
       "      <td>79</td>\n",
       "      <td>86</td>\n",
       "    </tr>\n",
       "    <tr>\n",
       "      <th>7</th>\n",
       "      <td>8</td>\n",
       "      <td>48</td>\n",
       "      <td>F</td>\n",
       "      <td>85</td>\n",
       "      <td>82</td>\n",
       "    </tr>\n",
       "    <tr>\n",
       "      <th>8</th>\n",
       "      <td>9</td>\n",
       "      <td>26</td>\n",
       "      <td>M</td>\n",
       "      <td>76</td>\n",
       "      <td>83</td>\n",
       "    </tr>\n",
       "    <tr>\n",
       "      <th>9</th>\n",
       "      <td>10</td>\n",
       "      <td>39</td>\n",
       "      <td>F</td>\n",
       "      <td>83</td>\n",
       "      <td>84</td>\n",
       "    </tr>\n",
       "  </tbody>\n",
       "</table>\n",
       "</div>"
      ],
      "text/plain": [
       "   PatientID  Age Gender  InitialHealthScore  FinalHealthScore\n",
       "0          1   45      M                  84                86\n",
       "1          2   34      F                  78                86\n",
       "2          3   29      M                  83                80\n",
       "3          4   52      F                  81                86\n",
       "4          5   37      M                  81                84\n",
       "5          6   41      F                  80                86\n",
       "6          7   33      M                  79                86\n",
       "7          8   48      F                  85                82\n",
       "8          9   26      M                  76                83\n",
       "9         10   39      F                  83                84"
      ]
     },
     "execution_count": 5,
     "metadata": {},
     "output_type": "execute_result"
    }
   ],
   "source": [
    "import pandas as pd\n",
    "\n",
    "patient_data = pd.DataFrame({\n",
    "    \"PatientID\": [1, 2, 3, 4, 5, 6, 7, 8, 9, 10],\n",
    "    \"Age\": [45, 34, 29, 52, 37, 41, 33, 48, 26, 39],\n",
    "    \"Gender\": [\"M\", \"F\", \"M\", \"F\", \"M\", \"F\", \"M\", \"F\", \"M\", \"F\"],\n",
    "    \"InitialHealthScore\": [84, 78, 83, 81, 81, 80, 79, 85, 76, 83],\n",
    "    \"FinalHealthScore\": [86, 86, 80, 86, 84, 86, 86, 82, 83, 84]\n",
    "})\n",
    "patient_data"
   ]
  },
  {
   "cell_type": "code",
   "execution_count": 6,
   "id": "cbcc6113",
   "metadata": {},
   "outputs": [
    {
     "data": {
      "text/html": [
       "<div>\n",
       "<style scoped>\n",
       "    .dataframe tbody tr th:only-of-type {\n",
       "        vertical-align: middle;\n",
       "    }\n",
       "\n",
       "    .dataframe tbody tr th {\n",
       "        vertical-align: top;\n",
       "    }\n",
       "\n",
       "    .dataframe thead th {\n",
       "        text-align: right;\n",
       "    }\n",
       "</style>\n",
       "<table border=\"1\" class=\"dataframe\">\n",
       "  <thead>\n",
       "    <tr style=\"text-align: right;\">\n",
       "      <th></th>\n",
       "      <th>PatientID</th>\n",
       "      <th>Age</th>\n",
       "      <th>Gender</th>\n",
       "      <th>InitialHealthScore</th>\n",
       "      <th>FinalHealthScore</th>\n",
       "      <th>HealthScoreChange</th>\n",
       "    </tr>\n",
       "  </thead>\n",
       "  <tbody>\n",
       "    <tr>\n",
       "      <th>0</th>\n",
       "      <td>1</td>\n",
       "      <td>45</td>\n",
       "      <td>M</td>\n",
       "      <td>84</td>\n",
       "      <td>86</td>\n",
       "      <td>2</td>\n",
       "    </tr>\n",
       "    <tr>\n",
       "      <th>1</th>\n",
       "      <td>2</td>\n",
       "      <td>34</td>\n",
       "      <td>F</td>\n",
       "      <td>78</td>\n",
       "      <td>86</td>\n",
       "      <td>8</td>\n",
       "    </tr>\n",
       "    <tr>\n",
       "      <th>2</th>\n",
       "      <td>3</td>\n",
       "      <td>29</td>\n",
       "      <td>M</td>\n",
       "      <td>83</td>\n",
       "      <td>80</td>\n",
       "      <td>-3</td>\n",
       "    </tr>\n",
       "    <tr>\n",
       "      <th>3</th>\n",
       "      <td>4</td>\n",
       "      <td>52</td>\n",
       "      <td>F</td>\n",
       "      <td>81</td>\n",
       "      <td>86</td>\n",
       "      <td>5</td>\n",
       "    </tr>\n",
       "    <tr>\n",
       "      <th>4</th>\n",
       "      <td>5</td>\n",
       "      <td>37</td>\n",
       "      <td>M</td>\n",
       "      <td>81</td>\n",
       "      <td>84</td>\n",
       "      <td>3</td>\n",
       "    </tr>\n",
       "    <tr>\n",
       "      <th>5</th>\n",
       "      <td>6</td>\n",
       "      <td>41</td>\n",
       "      <td>F</td>\n",
       "      <td>80</td>\n",
       "      <td>86</td>\n",
       "      <td>6</td>\n",
       "    </tr>\n",
       "    <tr>\n",
       "      <th>6</th>\n",
       "      <td>7</td>\n",
       "      <td>33</td>\n",
       "      <td>M</td>\n",
       "      <td>79</td>\n",
       "      <td>86</td>\n",
       "      <td>7</td>\n",
       "    </tr>\n",
       "    <tr>\n",
       "      <th>7</th>\n",
       "      <td>8</td>\n",
       "      <td>48</td>\n",
       "      <td>F</td>\n",
       "      <td>85</td>\n",
       "      <td>82</td>\n",
       "      <td>-3</td>\n",
       "    </tr>\n",
       "    <tr>\n",
       "      <th>8</th>\n",
       "      <td>9</td>\n",
       "      <td>26</td>\n",
       "      <td>M</td>\n",
       "      <td>76</td>\n",
       "      <td>83</td>\n",
       "      <td>7</td>\n",
       "    </tr>\n",
       "    <tr>\n",
       "      <th>9</th>\n",
       "      <td>10</td>\n",
       "      <td>39</td>\n",
       "      <td>F</td>\n",
       "      <td>83</td>\n",
       "      <td>84</td>\n",
       "      <td>1</td>\n",
       "    </tr>\n",
       "  </tbody>\n",
       "</table>\n",
       "</div>"
      ],
      "text/plain": [
       "   PatientID  Age Gender  InitialHealthScore  FinalHealthScore  \\\n",
       "0          1   45      M                  84                86   \n",
       "1          2   34      F                  78                86   \n",
       "2          3   29      M                  83                80   \n",
       "3          4   52      F                  81                86   \n",
       "4          5   37      M                  81                84   \n",
       "5          6   41      F                  80                86   \n",
       "6          7   33      M                  79                86   \n",
       "7          8   48      F                  85                82   \n",
       "8          9   26      M                  76                83   \n",
       "9         10   39      F                  83                84   \n",
       "\n",
       "   HealthScoreChange  \n",
       "0                  2  \n",
       "1                  8  \n",
       "2                 -3  \n",
       "3                  5  \n",
       "4                  3  \n",
       "5                  6  \n",
       "6                  7  \n",
       "7                 -3  \n",
       "8                  7  \n",
       "9                  1  "
      ]
     },
     "execution_count": 6,
     "metadata": {},
     "output_type": "execute_result"
    }
   ],
   "source": [
    "# First let's format this data in the manner of last week's HW \"Prelecture\" video\n",
    "# from IPython.display import YouTubeVideo\n",
    "# YouTubeVideo('Xz0x-8-cgaQ', width=800, height=500)  # https://www.youtube.com/watch?v=Xz0x-8-cgaQ\n",
    "\n",
    "patient_data['HealthScoreChange'] = patient_data.FinalHealthScore-patient_data.InitialHealthScore\n",
    "# why do we do the subtraction in this order?\n",
    "patient_data"
   ]
  },
  {
   "cell_type": "code",
   "execution_count": 9,
   "id": "eb3eb81d",
   "metadata": {},
   "outputs": [
    {
     "name": "stdout",
     "output_type": "stream",
     "text": [
      "   HealthScoreChange  > 0 ?\n",
      "0                  2   True\n",
      "1                  8   True\n",
      "2                 -3  False\n",
      "3                  5   True\n",
      "4                  3   True\n",
      "5                  6   True\n",
      "6                  7   True\n",
      "7                 -3  False\n",
      "8                  7   True\n",
      "9                  1   True\n"
     ]
    },
    {
     "data": {
      "text/html": [
       "<div>\n",
       "<style scoped>\n",
       "    .dataframe tbody tr th:only-of-type {\n",
       "        vertical-align: middle;\n",
       "    }\n",
       "\n",
       "    .dataframe tbody tr th {\n",
       "        vertical-align: top;\n",
       "    }\n",
       "\n",
       "    .dataframe thead th {\n",
       "        text-align: right;\n",
       "    }\n",
       "</style>\n",
       "<table border=\"1\" class=\"dataframe\">\n",
       "  <thead>\n",
       "    <tr style=\"text-align: right;\">\n",
       "      <th></th>\n",
       "      <th>HealthScoreChange</th>\n",
       "      <th>&gt; 0 ?</th>\n",
       "    </tr>\n",
       "  </thead>\n",
       "  <tbody>\n",
       "    <tr>\n",
       "      <th>0</th>\n",
       "      <td>-2</td>\n",
       "      <td>False</td>\n",
       "    </tr>\n",
       "    <tr>\n",
       "      <th>1</th>\n",
       "      <td>8</td>\n",
       "      <td>True</td>\n",
       "    </tr>\n",
       "    <tr>\n",
       "      <th>2</th>\n",
       "      <td>3</td>\n",
       "      <td>False</td>\n",
       "    </tr>\n",
       "    <tr>\n",
       "      <th>3</th>\n",
       "      <td>-5</td>\n",
       "      <td>False</td>\n",
       "    </tr>\n",
       "    <tr>\n",
       "      <th>4</th>\n",
       "      <td>-3</td>\n",
       "      <td>False</td>\n",
       "    </tr>\n",
       "    <tr>\n",
       "      <th>5</th>\n",
       "      <td>6</td>\n",
       "      <td>True</td>\n",
       "    </tr>\n",
       "    <tr>\n",
       "      <th>6</th>\n",
       "      <td>-7</td>\n",
       "      <td>False</td>\n",
       "    </tr>\n",
       "    <tr>\n",
       "      <th>7</th>\n",
       "      <td>-3</td>\n",
       "      <td>True</td>\n",
       "    </tr>\n",
       "    <tr>\n",
       "      <th>8</th>\n",
       "      <td>7</td>\n",
       "      <td>True</td>\n",
       "    </tr>\n",
       "    <tr>\n",
       "      <th>9</th>\n",
       "      <td>1</td>\n",
       "      <td>True</td>\n",
       "    </tr>\n",
       "  </tbody>\n",
       "</table>\n",
       "</div>"
      ],
      "text/plain": [
       "   HealthScoreChange  > 0 ?\n",
       "0                 -2  False\n",
       "1                  8   True\n",
       "2                  3  False\n",
       "3                 -5  False\n",
       "4                 -3  False\n",
       "5                  6   True\n",
       "6                 -7  False\n",
       "7                 -3   True\n",
       "8                  7   True\n",
       "9                  1   True"
      ]
     },
     "execution_count": 9,
     "metadata": {},
     "output_type": "execute_result"
    }
   ],
   "source": [
    "print(pd.DataFrame({'HealthScoreChange': patient_data['HealthScoreChange'],\n",
    "                    '> 0 ?': patient_data['HealthScoreChange']>0}))\n",
    "\n",
    "random_difference_sign = np.random.choice([-1, 1], size=len(patient_data))\n",
    "pd.DataFrame({'HealthScoreChange': random_difference_sign*patient_data['HealthScoreChange'].abs(),\n",
    "              '> 0 ?': (random_difference_sign*patient_data['HealthScoreChange'])>0})"
   ]
  },
  {
   "cell_type": "code",
   "execution_count": 10,
   "id": "5b986f56",
   "metadata": {},
   "outputs": [],
   "source": [
    "# And then can you see what's happening here???\n",
    "\n",
    "np.random.seed(1)  # make simulation reproducible\n",
    "number_of_simulations = 10000  # experiment with this... what does this do?\n",
    "n_size = len(patient_data)  # 10\n",
    "IncreaseProportionSimulations_underH0random = np.zeros(number_of_simulations)\n",
    "\n",
    "# generate \"random improvement\" proportions assuming H0 (vaccine has no average effect) is true \n",
    "# meaning that the \"before and after\" differences are positive or negative at \"random\"\n",
    "for i in range(number_of_simulations):\n",
    "    \n",
    "    # why is this equivalent to the suggested idea above?\n",
    "    random_improvement = np.random.choice([0,1], size=len(patient_data), replace=True)  # <<< `replace=True` ^^^\n",
    "\n",
    "    # why is .mean() a proportion? \n",
    "    IncreaseProportionSimulations_underH0random[i] = random_improvement.mean()\n",
    "    # why is this the statistic we're interested in? Hint: next section..."
   ]
  },
  {
   "cell_type": "code",
   "execution_count": 12,
   "id": "a1a84059",
   "metadata": {},
   "outputs": [
    {
     "name": "stdout",
     "output_type": "stream",
     "text": [
      "Number of Simulations: 10000\n",
      "\n",
      "Number of simulated test statistics (under H0)\n",
      "that are \"as or more extreme\" than the observed test statistic: 565\n",
      "\n",
      "p-value\n",
      "(= simulations \"as or more extreme\" / total simulations): 0.0565\n"
     ]
    }
   ],
   "source": [
    "# Population parameter under H0\n",
    "population_parameter_value_under_H0 = 0.5\n",
    "\n",
    "# Observed test statistic: Proportion of patients with positive health score change\n",
    "observed_test_statistic = (patient_data.HealthScoreChange > 0).mean()\n",
    "\n",
    "# Simulated test statistics under H0\n",
    "simulated_test_statistics = IncreaseProportionSimulations_underH0random\n",
    "\n",
    "# One-sided: Check if the simulated test statistics are greater than or equal to the observed test statistic\n",
    "SimTestStats_as_or_more_extreme_than_ObsTestStat = \\\n",
    "    (simulated_test_statistics >= observed_test_statistic)\n",
    "\n",
    "# Calculate the p-value for the one-sided test\n",
    "p_value = SimTestStats_as_or_more_extreme_than_ObsTestStat.sum() / number_of_simulations\n",
    "\n",
    "# Print the results\n",
    "print(\"Number of Simulations: \", number_of_simulations, \"\\n\\n\",\n",
    "      \"Number of simulated test statistics (under H0)\\n\",\n",
    "      'that are \"as or more extreme\" than the observed test statistic: ',\n",
    "      SimTestStats_as_or_more_extreme_than_ObsTestStat.sum(), \"\\n\\n\",\n",
    "      'p-value\\n(= simulations \"as or more extreme\" / total simulations): ', p_value, sep=\"\")\n"
   ]
  },
  {
   "cell_type": "markdown",
   "id": "4446770c",
   "metadata": {},
   "source": [
    "The key change is made one the line \\\n",
    "SimTestStats_as_or_more_extreme_than_ObsTestStat = (simulated_test_statistics >= observed_test_statistic) \\\n",
    "since it makes the program only counts statistics greater than or equal to the observed statistic. The new p=value is calculated as the proportion of simulations where the statistic is greater or equal to the observed statistic. We should generally expect the p-value in a single sided test is smaller than the double sided test under the same condition, since the simulation would have more chance to either be greater or smaller than the observed statistic."
   ]
  },
  {
   "cell_type": "markdown",
   "id": "d2005ac8",
   "metadata": {},
   "source": [
    "https://chatgpt.com/share/670dfaee-8928-800c-ace7-7669b805e4ca\n",
    "    \n",
    "This session focused on refining the hypothesis testing approach, transitioning from a two-sided to a one-sided test. Initially, a two-sided hypothesis test was implemented, comparing the observed test statistic (the proportion of patients who showed improvement in health scores) against the null hypothesis (where the vaccine has no effect and improvements are random). The comparison used the absolute difference between the observed and simulated statistics relative to the null hypothesis, accounting for extremity in both directions.\n",
    "\n",
    "Next, the code was adjusted to perform a one-sided hypothesis test. This test only considers whether the observed statistic is greater than the hypothesized value, focusing on one direction of extremity. This change leads to a smaller p-value, as it only considers deviations in one direction, unlike the two-sided test, which looks at both.\n",
    "\n",
    "The discussion clarified that a one-tailed test typically results in a smaller p-value compared to a two-tailed test, making it easier to reject the null hypothesis in the one-sided case, but should only be used when the direction of the effect is clearly hypothesized."
   ]
  },
  {
   "cell_type": "markdown",
   "id": "e494ba12",
   "metadata": {},
   "source": [
    "#### Question 8"
   ]
  },
  {
   "cell_type": "markdown",
   "id": "49bee7f3",
   "metadata": {},
   "source": [
    "The purpose of both the Fisher's experiment and this analysis are both to determine whether humans are able to determine the oder of pouring of tea. This two experiment both gives a binary outcome(YES or NO), the null hypothesis is both set to 0.5(guessing), and tested using the comparison between the null hypothesis and the observed statistic. Our sample size is much greater than Fisher's, so we use a z-test instead of the original permulation test, which is a key difference. "
   ]
  },
  {
   "cell_type": "markdown",
   "id": "d7e0e5b7",
   "metadata": {},
   "source": [
    "The population is all students in STA130, and the samples are 80 of them. In this specific experiment, the parameter of interest should be p=0.5, which means that the null hypothesis is all students are guessing the answer. In contrast, the null hypothesis is p>0.5, meaning the students have some ability to identify the poruing order of the tea. In this observed sample, 49 of 80 students give the correct answer about the tea, which tells use our sample portion is 0.6125, which is used to compare against the hypothesized proportion of 0.5 under the null hypothesis."
   ]
  },
  {
   "cell_type": "markdown",
   "id": "95f545bf",
   "metadata": {},
   "source": [
    "The purpose of this analysis is to determine whether STA130 students are able to taste the order of pouring of the tea or not, in order to address this problem, the statistical hypothesis test is applied to compare the assumption and the observed statistic. First, a one-sample-z-test for a propotion is performed, which include the steps of assume null hypothesis(p=0.5), calculated the test statistic(49/80 = 0.6125) and determine the p-value. A conclusion can be given after we analyze the p-value calculated."
   ]
  },
  {
   "cell_type": "code",
   "execution_count": 13,
   "id": "64b14991",
   "metadata": {},
   "outputs": [
    {
     "name": "stdout",
     "output_type": "stream",
     "text": [
      "Sample proportion (p̂): 0.6125\n",
      "Z-score: 2.0124611797498115\n",
      "P-value: 0.022085672454221217\n",
      "Reject the null hypothesis (p-value = 0.022085672454221217 < 0.05). The students are better than random guessing.\n"
     ]
    }
   ],
   "source": [
    "import math\n",
    "from scipy.stats import norm\n",
    "\n",
    "# Given values\n",
    "n = 80  # sample size\n",
    "x = 49  # number of students who correctly identified the pouring order\n",
    "p_0 = 0.5  # null hypothesis proportion\n",
    "\n",
    "# Calculate the sample proportion\n",
    "p_hat = x / n\n",
    "\n",
    "# Calculate the standard error under the null hypothesis\n",
    "standard_error = math.sqrt((p_0 * (1 - p_0)) / n)\n",
    "\n",
    "# Calculate the z-score for the one-sample proportion test\n",
    "z_score = (p_hat - p_0) / standard_error\n",
    "\n",
    "# Calculate the p-value for a one-tailed test (since H1: p > 0.5)\n",
    "p_value = 1 - norm.cdf(z_score)\n",
    "\n",
    "# Significance level (commonly set to 0.05)\n",
    "alpha = 0.05\n",
    "\n",
    "# Print the results\n",
    "print(f\"Sample proportion (p̂): {p_hat}\")\n",
    "print(f\"Z-score: {z_score}\")\n",
    "print(f\"P-value: {p_value}\")\n",
    "\n",
    "# Decision\n",
    "if p_value < alpha:\n",
    "    print(f\"Reject the null hypothesis (p-value = {p_value} < {alpha}). The students are better than random guessing.\")\n",
    "else:\n",
    "    print(f\"Fail to reject the null hypothesis (p-value = {p_value} ≥ {alpha}). No evidence to suggest students are better than guessing.\")\n"
   ]
  },
  {
   "cell_type": "markdown",
   "id": "de8f0600",
   "metadata": {},
   "source": [
    "After performing the z-test, we get the p-value of 0.0221, and this value is much smaller than 0.05, which means the null hypothesis has a small proportion to happen under the observed data. This p-value suggests a strong evidence for students are able to determine the order of pouring. Therefore, we failed to claim the null hypothesis is true since there's no enough evidence. "
   ]
  },
  {
   "cell_type": "markdown",
   "id": "0d3a0bb1",
   "metadata": {},
   "source": [
    "https://chatgpt.com/share/670e02be-1e94-800c-9ee3-8d4bf74c1fdb\n",
    "\n",
    "In this session, an analysis was conducted to evaluate whether STA130 students could correctly identify whether milk or tea was poured first in a cup of tea. The null hypothesis stated that the students were guessing, with a 50% chance of being correct, while the alternative hypothesis suggested that students were better than random guessing.\n",
    "\n",
    "A one-sample z-test for a proportion was used, with the observed sample proportion being 0.6125 (49 out of 80 students were correct). The z-score was calculated as 2.01, leading to a p-value of approximately 0.0221. Since this p-value is less than the significance level of 0.05, the null hypothesis was rejected, indicating that the students were statistically better than random guessing.\n",
    "\n",
    "This experiment shares key similarities with Fisher's tea-tasting experiment involving Dr. Muriel Bristol, both testing whether observed outcomes deviate from random guessing. The primary differences lie in sample size, the type of test used, and the experimental design."
   ]
  },
  {
   "cell_type": "markdown",
   "id": "3a048401",
   "metadata": {},
   "source": [
    "#### Question 9"
   ]
  },
  {
   "cell_type": "markdown",
   "id": "fa94649f",
   "metadata": {},
   "source": [
    "Yes."
   ]
  },
  {
   "cell_type": "markdown",
   "id": "3555a985",
   "metadata": {},
   "source": [
    "#### Chatbot history"
   ]
  },
  {
   "cell_type": "markdown",
   "id": "d6a7e366",
   "metadata": {},
   "source": [
    "https://chatgpt.com/share/66fed021-434c-800c-bf4d-98e4d3db77c6\n",
    "Statistical examination requires ideas to be measurable, meaning they must involve quantifiable variables that can be objectively collected and analyzed. Without clear metrics, it becomes difficult to apply statistical methods.\n",
    "\n",
    "https://chatgpt.com/share/66fed6e9-0fd8-800c-ab16-5a227177c665\n",
    "This session focused on clarifying key statistical concepts related to hypothesis testing, specifically the distinction between observed sample values (( x_i )), the sample mean (( \\bar{x} )), the population mean (( \\mu )), and the hypothesized population mean under the null hypothesis (( \\mu_0 )).\n",
    "Observed sample values (( x_i )) are individual data points collected from a sample.\n",
    "The sample mean (( \\bar{x} )) is the average of those values and serves as an estimate of the population mean, though it varies between samples.\n",
    "The population mean (( \\mu )) is a fixed but unknown value that represents the true average of the population.\n",
    "The hypothesized mean (( \\mu_0 )) is the value assumed under the null hypothesis, representing a baseline for comparison in the hypothesis test.\n",
    "The distinction between these concepts highlights the goal of hypothesis testing: using sample data to draw conclusions about the population mean.\n",
    "\n",
    "https://chatgpt.com/share/66fedad8-2fc0-800c-99a7-b23227c2978b\n",
    "In this session, two key concepts in hypothesis testing were covered:\n",
    "Imagining a World Where the Null Hypothesis is True: When calculating a p-value, the assumption is made that the null hypothesis is true to evaluate how likely the observed data would be under this assumption. This helps in deciding whether to reject or fail to reject the null hypothesis based on the extremity of the data.\n",
    "What a p-value is: A p-value represents the probability of obtaining a result as extreme, or more extreme, than the observed data, assuming the null hypothesis is true. A small p-value suggests evidence against the null hypothesis, while a large p-value indicates that the data is not unusual under the null hypothesis. It does not measure the probability that the null hypothesis is true or false, nor does it quantify the size or importance of an effect.\n",
    "\n",
    "https://chatgpt.com/share/66fedad8-2fc0-800c-99a7-b23227c2978b\n",
    "The observed test statistic is compared to the sampling distribution of the test statistic under the assumption that the null hypothesis is true. If the observed value falls near the center of the distribution, it suggests that the data aligns with the null hypothesis. However, if the observed statistic falls in the tails (indicating an extreme value), it suggests the result is unusual under the null hypothesis. This comparison helps determine the p-value, with more extreme test statistics leading to smaller p-values and stronger evidence against the null hypothesis.\n",
    "\n",
    "https://chatgpt.com/share/66fee8a9-9020-800c-94aa-c3f741d7e98a\n",
    "In this session, a simulation was conducted to estimate a p-value for a study on head-tilting preferences among kissing couples. The null hypothesis assumed no preference for tilting direction, with a 50/50 chance of tilting left or right. The observed data showed that 80 out of 124 couples tilted their heads to the right, a proportion of 64.5%.\n",
    "A binomial model representing the 50/50 probability assumption was used, and 10,000 trials were run. The resulting p-value was 0.001, indicating that the likelihood of observing 80 or more right tilts, under the assumption of no preference, is just 0.1%.\n",
    "This low p-value suggests strong evidence against the null hypothesis, implying a possible preference for tilting to the right when kissing.\n",
    "\n",
    "https://chatgpt.com/share/66feec4b-3040-800c-a77e-2f8ed65de41c\n",
    "The session covered the limitations of using p-values in hypothesis testing. It was explained that a p-value cannot definitively prove whether a null hypothesis is true or false. Instead, a smaller p-value provides stronger evidence against the null hypothesis, but it remains probabilistic. In the context of Fido's innocence or guilt, a low p-value suggests evidence against innocence but doesn't definitively prove guilt, and a high p-value suggests weak evidence for guilt but doesn't definitively prove innocence. Hypothesis testing involves probabilistic reasoning rather than absolute certainty.\n",
    "\n",
    "https://chatgpt.com/share/670dfaee-8928-800c-ace7-7669b805e4ca\n",
    "This session focused on refining the hypothesis testing approach, transitioning from a two-sided to a one-sided test. Initially, a two-sided hypothesis test was implemented, comparing the observed test statistic (the proportion of patients who showed improvement in health scores) against the null hypothesis (where the vaccine has no effect and improvements are random). The comparison used the absolute difference between the observed and simulated statistics relative to the null hypothesis, accounting for extremity in both directions.\n",
    "Next, the code was adjusted to perform a one-sided hypothesis test. This test only considers whether the observed statistic is greater than the hypothesized value, focusing on one direction of extremity. This change leads to a smaller p-value, as it only considers deviations in one direction, unlike the two-sided test, which looks at both.\n",
    "The discussion clarified that a one-tailed test typically results in a smaller p-value compared to a two-tailed test, making it easier to reject the null hypothesis in the one-sided case, but should only be used when the direction of the effect is clearly hypothesized.\n",
    "\n",
    "https://chatgpt.com/share/670e02be-1e94-800c-9ee3-8d4bf74c1fdb\n",
    "In this session, an analysis was conducted to evaluate whether STA130 students could correctly identify whether milk or tea was poured first in a cup of tea. The null hypothesis stated that the students were guessing, with a 50% chance of being correct, while the alternative hypothesis suggested that students were better than random guessing.\n",
    "A one-sample z-test for a proportion was used, with the observed sample proportion being 0.6125 (49 out of 80 students were correct). The z-score was calculated as 2.01, leading to a p-value of approximately 0.0221. Since this p-value is less than the significance level of 0.05, the null hypothesis was rejected, indicating that the students were statistically better than random guessing.\n",
    "This experiment shares key similarities with Fisher's tea-tasting experiment involving Dr. Muriel Bristol, both testing whether observed outcomes deviate from random guessing. The primary differences lie in sample size, the type of test used, and the experimental design."
   ]
  }
 ],
 "metadata": {
  "kernelspec": {
   "display_name": "Python 3 (ipykernel)",
   "language": "python",
   "name": "python3"
  },
  "language_info": {
   "codemirror_mode": {
    "name": "ipython",
    "version": 3
   },
   "file_extension": ".py",
   "mimetype": "text/x-python",
   "name": "python",
   "nbconvert_exporter": "python",
   "pygments_lexer": "ipython3",
   "version": "3.11.6"
  }
 },
 "nbformat": 4,
 "nbformat_minor": 5
}
